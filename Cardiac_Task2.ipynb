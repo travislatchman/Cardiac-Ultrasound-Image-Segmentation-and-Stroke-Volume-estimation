{
 "cells": [
  {
   "cell_type": "markdown",
   "metadata": {
    "colab_type": "text",
    "id": "view-in-github"
   },
   "source": [
    "<a href=\"https://colab.research.google.com/github/travislatchman/Cardiac-Ultrasound-Image-Segmentation-and-Stroke-Volume-estimation/blob/main/Cardiac_Task1.ipynb\" target=\"_parent\"><img src=\"https://colab.research.google.com/assets/colab-badge.svg\" alt=\"Open In Colab\"/></a>"
   ]
  },
  {
   "cell_type": "code",
   "execution_count": 1,
   "metadata": {
    "id": "oWEMv08XnIMQ"
   },
   "outputs": [
    {
     "data": {
      "text/plain": [
       "<Figure size 640x480 with 1 Axes>"
      ]
     },
     "metadata": {},
     "output_type": "display_data"
    }
   ],
   "source": [
    "import numpy as np\n",
    "import matplotlib.pyplot as plt\n",
    "import cv2\n",
    "import Segmentation as Seg\n",
    "\n",
    "def getDirection(start, end):\n",
    "    return [end[0] - start[0], end[1] - start[1]]\n",
    "\n",
    "def cosAngle(v1, v2):\n",
    "    return (v1[0]*v2[0] + v1[1]*v2[1]) / (np.sqrt(v1[0]*v1[0] + v1[1]*v1[1]) * np.sqrt(v2[0]*v2[0] + v2[1]*v2[1]))\n",
    "\n",
    "def findNextPoint(contour, currentPoint, previousDirection):\n",
    "    candidates = []\n",
    "    for i in range(-1, 2):\n",
    "        for j in range(-1, 2):\n",
    "            if i == 0 and j == 0:\n",
    "                continue\n",
    "            if contour[currentPoint[0] + i, currentPoint[1] + j] > 0:\n",
    "                candidates.append([currentPoint[0] + i, currentPoint[1] + j])\n",
    "    \n",
    "    bestIndex = -1\n",
    "    bestValue = -2\n",
    "    for i in range(len(candidates)):\n",
    "        angle = cosAngle(previousDirection, getDirection(currentPoint, candidates[i]))\n",
    "        if angle > bestValue:\n",
    "            bestValue = angle\n",
    "            bestIndex = i\n",
    "        \n",
    "    return candidates[bestIndex]\n",
    "\n",
    "def getContourPointsCW(contour):\n",
    "    originalPointsY, originalPointsX = np.nonzero(contour)\n",
    "    index = np.argmin(originalPointsY)\n",
    "    startingPoint = [originalPointsY[index], originalPointsX[index]] #Topmost point\n",
    "    \n",
    "    pointList = [startingPoint, findNextPoint(contour, startingPoint, [0, 1])]\n",
    "    while True:\n",
    "        direction = getDirection(pointList[-2], pointList[-1])\n",
    "        newPoint = findNextPoint(contour, pointList[-1], direction)\n",
    "        if newPoint == pointList[0]:\n",
    "            break\n",
    "        else:\n",
    "            pointList.append(newPoint)\n",
    "    return pointList\n",
    "    \n",
    "\n",
    "def resampleContour(contour, N):\n",
    "    originalPoints = getContourPointsCW(contour)\n",
    "    ys = [x[0] for x in originalPoints]\n",
    "    xs = [x[1] for x in originalPoints]\n",
    "    \n",
    "    originalT = np.arange(len(originalPoints))\n",
    "    \n",
    "    newT = np.linspace(0, len(originalPoints), N, False)\n",
    "    xInterp = np.interp(newT, originalT, xs).astype(int)\n",
    "    yInterp = np.interp(newT, originalT, ys).astype(int)\n",
    "\n",
    "    #return np.stack((xInterp, yInterp), axis=1).reshape(-1, 2)\n",
    "    return yInterp, xInterp\n",
    "    \n",
    "    \n",
    "def resampleAllContours(sequence):\n",
    "    newSequence = []\n",
    "    for frame in sequence:\n",
    "        edges = cv2.Canny(frame, 50, 200).astype(np.uint8)\n",
    "        Yinterp, Xinterp = resampleContour(edges, 200)\n",
    "        newSequence.append(np.array([Yinterp, Xinterp]))\n",
    "    return newSequence\n",
    "    \n",
    "    \n",
    "def interpolateBetweenContours(cStart, cEnd, t): #0 <= t <= 1\n",
    "    return (1-t)*cStart + t*cEnd\n",
    "\n",
    "\n",
    "TwoSequence, FourSequence = Seg.getSequenceSegmentations(1)\n",
    "\n",
    "exampleFile = '2CH_sequence'\n",
    "image, aspectRatio = Seg.read_patient_mhd_file(1, exampleFile) #Look at 1, 4 ,14, 16\n",
    "boundary, region = Seg.segmentImage(image[0], aspectRatio, exampleFile, False, True)"
   ]
  },
  {
   "cell_type": "code",
   "execution_count": 2,
   "metadata": {},
   "outputs": [
    {
     "data": {
      "image/png": "[encoded data removed]",
      "text/plain": [
       "<Figure size 432x288 with 1 Axes>"
      ]
     },
     "metadata": {
      "needs_background": "light"
     },
     "output_type": "display_data"
    }
   ],
   "source": [
    "newTwo = resampleAllContours(TwoSequence)\n",
    "newFour = resampleAllContours(FourSequence)\n",
    "\n",
    "def interpolateSequence(sequence, numFrames):\n",
    "    control = np.linspace(0, len(sequence) - 1, numFrames, True)\n",
    "    fullSequence = []\n",
    "    for i in control:\n",
    "        fullSequence.append(interpolateBetweenContours(sequence[int(np.floor(i))], sequence[int(np.ceil(i))], i - np.floor(i)))\n",
    "    return fullSequence\n",
    "\n",
    "interpTwo = interpolateSequence(newTwo, 60)\n",
    "interpFour = interpolateSequence(newFour, 60)\n",
    "        \n",
    "#for s in interpFour:\n",
    "#    plt.plot(s[1], -s[0])\n",
    "    \n",
    "\n",
    "def getLeftAndRightContours(c):\n",
    "    Y = c[0]\n",
    "    X = c[1]\n",
    "    index = np.argmin(Y)\n",
    "    startingPoint = [Y[index], X[index]] #Topmost point\n",
    "    \n",
    "    Left = [[], []]\n",
    "    Right = [[], []]\n",
    "    for i in range(len(X)):\n",
    "        if X[i] < startingPoint[1]:\n",
    "            Left[0].append(Y[i])\n",
    "            Left[1].append(X[i])\n",
    "        else:\n",
    "            Right[0].append(Y[i])\n",
    "            Right[1].append(X[i])\n",
    "    Left[0].append(Right[0][0])\n",
    "    Left[1].append(Right[1][0])\n",
    "    \n",
    "    #twoLeft[0] = np.insert(twoLeft[0], 0, twoRight[0][-1])\n",
    "    #twoLeft[1] = np.insert(twoLeft[1], 0, twoRight[1][-1])\n",
    "    \n",
    "    return np.array(Left), np.array(Right), startingPoint\n",
    "    \n",
    "def alignContours(two, four, drawPlot):\n",
    "    twoLeft, twoRight, twoTop = getLeftAndRightContours(two)\n",
    "    fourLeft, fourRight, fourTop = getLeftAndRightContours(four)\n",
    "    \n",
    "    transform = getDirection(fourTop, twoTop)\n",
    "    \n",
    "    fourLeft[1] += transform[1]\n",
    "    fourRight[1] += transform[1]\n",
    "    fourLeft[0] += transform[0]\n",
    "    fourRight[0] += transform[0]\n",
    "    \n",
    "    if drawPlot:\n",
    "        plt.plot(twoLeft[1], -twoLeft[0], color='red')\n",
    "        plt.plot(twoRight[1], -twoRight[0], color='darkred')\n",
    "\n",
    "        plt.plot(fourLeft[1], -fourLeft[0], color='blue')\n",
    "        plt.plot(fourRight[1], -fourRight[0],  color='lightblue')\n",
    "    return twoLeft, twoRight, fourLeft, fourRight, twoTop\n",
    "    \n",
    "    \n",
    "def resamplePath(contour, N):\n",
    "    ys = contour[0]\n",
    "    xs = contour[1]\n",
    "    \n",
    "    originalT = np.arange(contour[0].size)\n",
    "    \n",
    "    newT = np.linspace(0, contour[0].size, N, False)\n",
    "    xInterp = np.interp(newT, originalT, xs).astype(int)\n",
    "    yInterp = np.interp(newT, originalT, ys).astype(int)\n",
    "\n",
    "    return np.array([yInterp, xInterp])\n",
    "    \n",
    "def generatePointCloud(two, four, intermediateAngles, aspectRatio, drawPlot):\n",
    "    twoLeft, twoRight, fourLeft, fourRight, twoTop = alignContours(two, four, drawPlot)\n",
    "    rotationCenter = twoTop[1]\n",
    "    resampleNumber = 50\n",
    "    twoLeft = resamplePath(twoLeft, resampleNumber)\n",
    "    fourLeft = resamplePath(fourLeft, resampleNumber)\n",
    "    twoRight = resamplePath(twoRight, resampleNumber)\n",
    "    fourRight = resamplePath(fourRight, resampleNumber)\n",
    "    points = []\n",
    "    for i in range(-1, intermediateAngles):\n",
    "        angle = 90 * (i + 1) / (intermediateAngles + 1)\n",
    "        interpWeight = angle / 90\n",
    "        \n",
    "        interp = interpolateBetweenContours(twoLeft, fourLeft, interpWeight)\n",
    "        #rotate around y axis, y is constant\n",
    "        for j in range(len(interp[0])):\n",
    "            radius = abs(interp[1][j] - rotationCenter)\n",
    "            points.append([(-radius * np.cos(angle * np.pi / 180)) + rotationCenter, interp[0][j] * aspectRatio, -radius * np.sin(angle * np.pi / 180)]) #Now in x, y, z form\n",
    "    \n",
    "    for i in range(-1, intermediateAngles):\n",
    "        angle = 90 * (i + 1) / (intermediateAngles + 1)\n",
    "        interpWeight = angle / 90\n",
    "        \n",
    "        flippedLeft = np.array([fourLeft[0], 2*rotationCenter - fourLeft[1]])\n",
    "        interp = interpolateBetweenContours(flippedLeft, np.flip(twoRight, axis = 1), interpWeight)\n",
    "        #rotate around y axis, y is constant\n",
    "        for j in range(len(interp[0])):\n",
    "            radius = abs(interp[1][j] - rotationCenter)\n",
    "            points.append([(radius * np.sin(angle * np.pi / 180)) + rotationCenter, interp[0][j] * aspectRatio, -radius * np.cos(angle * np.pi / 180)]) #Now in x, y, z form\n",
    "    \n",
    "    for i in range(-1, intermediateAngles):\n",
    "        angle = 90 * (i + 1) / (intermediateAngles + 1)\n",
    "        interpWeight = angle / 90\n",
    "        \n",
    "        interp = interpolateBetweenContours(twoRight, fourRight, interpWeight)\n",
    "        #rotate around y axis, y is constant\n",
    "        for j in range(len(interp[0])):\n",
    "            radius = abs(interp[1][j] - rotationCenter)\n",
    "            points.append([(radius * np.cos(angle * np.pi / 180)) + rotationCenter, interp[0][j] * aspectRatio, radius * np.sin(angle * np.pi / 180)]) #Now in x, y, z form\n",
    "    \n",
    "    \n",
    "    for i in range(-1, intermediateAngles):\n",
    "        angle = 90 * (i + 1) / (intermediateAngles + 1)\n",
    "        interpWeight = angle / 90\n",
    "        \n",
    "        flippedRight = np.array([fourRight[0], 2*rotationCenter - fourRight[1]])\n",
    "        interp = interpolateBetweenContours(flippedRight, np.flip(twoLeft, axis = 1), interpWeight)\n",
    "        #rotate around y axis, y is constant\n",
    "        for j in range(len(interp[0])):\n",
    "            radius = abs(interp[1][j] - rotationCenter)\n",
    "            points.append([(-radius * np.sin(angle * np.pi / 180)) + rotationCenter, interp[0][j] * aspectRatio, radius * np.cos(angle * np.pi / 180)]) #Now in x, y, z form\n",
    "    \n",
    "    return points\n",
    "\n",
    "frames = []\n",
    "for i in range(len(interpTwo)):\n",
    "    frames.append(generatePointCloud(interpTwo[i], interpFour[i], 3, aspectRatio, i == 0))\n"
   ]
  },
  {
   "cell_type": "code",
   "execution_count": 3,
   "metadata": {},
   "outputs": [
    {
     "name": "stdout",
     "output_type": "stream",
     "text": [
      "[[3 4]\n",
      " [9 9]]\n"
     ]
    }
   ],
   "source": [
    "r = np.array([[3, 4], [5,6]])\n",
    "print(np.array([r[0], [9, 9]]))"
   ]
  },
  {
   "cell_type": "code",
   "execution_count": 4,
   "metadata": {},
   "outputs": [
    {
     "data": {
      "application/vnd.jupyter.widget-view+json": {
       "model_id": "00f9587d36084b10a9a4489cceea1176",
       "version_major": 2,
       "version_minor": 0
      },
      "text/plain": [
       "Widget(value=\"<iframe src='http://localhost:57027/index.html?ui=P_0x20c5a82efc8_0&reconnect=auto' style='width…"
      ]
     },
     "metadata": {},
     "output_type": "display_data"
    }
   ],
   "source": [
    "import pyvista as pv\n",
    "\n",
    "p = pv.wrap(np.array(frames[10]))\n",
    "surf = p.reconstruct_surface()\n",
    "\n",
    "pl = pv.Plotter(shape=(1, 2))\n",
    "pl.add_mesh(p, style='points', point_size=3.0)\n",
    "pl.add_title('Point Cloud of 3D Surface')\n",
    "pl.subplot(0, 1)\n",
    "pl.add_mesh(surf, opacity = 0.4, show_edges=True)\n",
    "pl.add_title('Reconstructed Surface')\n",
    "pl.show()"
   ]
  },
  {
   "cell_type": "code",
   "execution_count": 5,
   "metadata": {},
   "outputs": [],
   "source": [
    "import numpy as np\n",
    "import pyvista as pv\n",
    "\n",
    "plotter = pv.Plotter(shape=(1, 2))\n",
    "plotter.open_movie(\"staticMovie.mp4\")\n",
    "\n",
    "reps = 10\n",
    "\n",
    "for i in range(reps):\n",
    "    for frame in frames:\n",
    "        plotter.clear()\n",
    "        \n",
    "        p = pv.wrap(np.array(frame))\n",
    "        surf = p.reconstruct_surface()\n",
    "\n",
    "        plotter.subplot(0, 0)\n",
    "        plotter.add_mesh(p, style='points', point_size=3.0)\n",
    "        plotter.add_title('Point Cloud')\n",
    "        plotter.subplot(0, 1)\n",
    "        plotter.add_mesh(surf, opacity = 0.4, show_edges=True)\n",
    "        plotter.add_title('Surface')\n",
    "        \n",
    "        plotter.write_frame()  # Write this frame\n",
    "        \n",
    "plotter.close()"
   ]
  },
  {
   "cell_type": "code",
   "execution_count": 14,
   "metadata": {},
   "outputs": [],
   "source": [
    "import numpy as np\n",
    "import pyvista as pv\n",
    "\n",
    "def lerp(start, end, t):\n",
    "    return start * (1-t) + end*t\n",
    "\n",
    "plotter = pv.Plotter(shape=(1, 2))\n",
    "plotter.open_movie(\"movingMovie.mp4\")\n",
    "\n",
    "radius = 1200\n",
    "reps = 10\n",
    "\n",
    "totalFrames = reps * len(frames)\n",
    "counter = 0\n",
    "for i in range(reps):\n",
    "    for frame in frames:\n",
    "        plotter.clear()\n",
    "        \n",
    "        frame = np.array(frame)\n",
    "        frame = (np.array([[0, 0, 1], [1, 0, 0], [0, 1, 0]]) @ frame.T).T #Rotate coord system\n",
    "        \n",
    "        p = pv.wrap(frame)\n",
    "        surf = p.reconstruct_surface()\n",
    "\n",
    "        centerOfMass = np.average(frame, 0)\n",
    "        phi = lerp(0, np.pi * 1.1, counter / totalFrames)\n",
    "        theta = lerp(np.pi * 0.3, np.pi * 0.7, counter / totalFrames)\n",
    "        pos = (radius * np.sin(theta) * np.cos(phi) + centerOfMass[0], radius * np.sin(theta) * np.sin(phi) + centerOfMass[1], radius * np.cos(theta) + centerOfMass[2])\n",
    "        \n",
    "        plotter.subplot(0, 0)\n",
    "        plotter.add_mesh(p, style='points', point_size=3.0)\n",
    "        plotter.add_title('Point Cloud')\n",
    "        plotter.camera.position = pos\n",
    "        plotter.subplot(0, 1)\n",
    "        plotter.add_mesh(surf, opacity = 0.4, show_edges=True)\n",
    "        plotter.add_title('Surface')\n",
    "        \n",
    "        plotter.camera.position = pos\n",
    "        plotter.write_frame()  # Write this frame\n",
    "        \n",
    "        counter += 1\n",
    "        \n",
    "plotter.close()"
   ]
  },
  {
   "cell_type": "code",
   "execution_count": 7,
   "metadata": {},
   "outputs": [
    {
     "name": "stdout",
     "output_type": "stream",
     "text": [
      "[2. 3. 4.]\n"
     ]
    }
   ],
   "source": [
    "a = np.array([[1, 2, 3], [3, 4, 5]])\n",
    "print(np.average(a, 0))"
   ]
  },
  {
   "cell_type": "code",
   "execution_count": null,
   "metadata": {},
   "outputs": [],
   "source": []
  }
 ],
 "metadata": {
  "colab": {
   "authorship_tag": "ABX9TyO1QN6Qw8v9HzAORkW0zAkA",
   "include_colab_link": true,
   "provenance": []
  },
  "kernelspec": {
   "display_name": "Python 3",
   "language": "python",
   "name": "python3"
  },
  "language_info": {
   "codemirror_mode": {
    "name": "ipython",
    "version": 3
   },
   "file_extension": ".py",
   "mimetype": "text/x-python",
   "name": "python",
   "nbconvert_exporter": "python",
   "pygments_lexer": "ipython3",
   "version": "3.7.16"
  }
 },
 "nbformat": 4,
 "nbformat_minor": 4
}
