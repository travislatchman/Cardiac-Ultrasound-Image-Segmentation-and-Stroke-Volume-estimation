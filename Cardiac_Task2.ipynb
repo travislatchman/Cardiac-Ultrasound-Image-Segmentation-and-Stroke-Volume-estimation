{
 "cells": [
  {
   "cell_type": "markdown",
   "metadata": {
    "colab_type": "text",
    "id": "view-in-github"
   },
   "source": [
    "<a href=\"https://colab.research.google.com/github/travislatchman/Cardiac-Ultrasound-Image-Segmentation-and-Stroke-Volume-estimation/blob/main/Cardiac_Task1.ipynb\" target=\"_parent\"><img src=\"https://colab.research.google.com/assets/colab-badge.svg\" alt=\"Open In Colab\"/></a>"
   ]
  },
  {
   "cell_type": "code",
   "execution_count": 1,
   "metadata": {
    "id": "oWEMv08XnIMQ"
   },
   "outputs": [],
   "source": [
    "import Reconstruction as Rec\n",
    "import Segmentation as Seg\n",
    "\n",
    "TwoSequence, FourSequence, aspectRatio = Seg.getSequenceSegmentations(1, False)\n",
    "\n",
    "newTwo = Rec.resampleAllContours(TwoSequence)\n",
    "newFour = Rec.resampleAllContours(FourSequence)\n",
    "\n",
    "interpTwo = Rec.interpolateSequence(newTwo, 60)\n",
    "interpFour = Rec.interpolateSequence(newFour, 60)\n",
    "\n",
    "frames = []\n",
    "for i in range(len(interpTwo)):\n",
    "    frames.append(Rec.generatePointCloud(interpTwo[i], interpFour[i], 3, aspectRatio, i == 0))"
   ]
  },
  {
   "cell_type": "markdown",
   "metadata": {},
   "source": [
    "**Interactive Widget**"
   ]
  },
  {
   "cell_type": "code",
   "execution_count": 2,
   "metadata": {},
   "outputs": [
    {
     "data": {
      "application/vnd.jupyter.widget-view+json": {
       "model_id": "988ced8601634f2ea7183987bb552d8e",
       "version_major": 2,
       "version_minor": 0
      },
      "text/plain": [
       "Widget(value=\"<iframe src='http://localhost:58376/index.html?ui=P_0x145c8376c08_0&reconnect=auto' style='width…"
      ]
     },
     "metadata": {},
     "output_type": "display_data"
    }
   ],
   "source": [
    "import pyvista as pv\n",
    "import numpy as np\n",
    "\n",
    "p = pv.wrap(np.array(frames[10]))\n",
    "surf = p.reconstruct_surface()\n",
    "\n",
    "pl = pv.Plotter(shape=(1, 2))\n",
    "pl.add_mesh(p, style='points', point_size=3.0)\n",
    "pl.add_title('Point Cloud of 3D Surface')\n",
    "pl.subplot(0, 1)\n",
    "pl.add_mesh(surf, opacity = 0.4, show_edges=True)\n",
    "pl.add_title('Reconstructed Surface')\n",
    "pl.show()"
   ]
  },
  {
   "cell_type": "markdown",
   "metadata": {},
   "source": [
    "**Create Static Movie**"
   ]
  },
  {
   "cell_type": "code",
   "execution_count": 3,
   "metadata": {},
   "outputs": [],
   "source": [
    "import numpy as np\n",
    "import pyvista as pv\n",
    "\n",
    "plotter = pv.Plotter(shape=(1, 2))\n",
    "plotter.open_movie(\"staticMovie.mp4\")\n",
    "\n",
    "reps = 10\n",
    "\n",
    "for i in range(reps):\n",
    "    for frame in frames:\n",
    "        plotter.clear()\n",
    "        \n",
    "        p = pv.wrap(np.array(frame))\n",
    "        surf = p.reconstruct_surface()\n",
    "\n",
    "        plotter.subplot(0, 0)\n",
    "        plotter.add_mesh(p, style='points', point_size=3.0)\n",
    "        plotter.add_title('Point Cloud')\n",
    "        plotter.subplot(0, 1)\n",
    "        plotter.add_mesh(surf, opacity = 0.4, show_edges=True)\n",
    "        plotter.add_title('Surface')\n",
    "        \n",
    "        plotter.write_frame()  # Write this frame\n",
    "        \n",
    "plotter.close()"
   ]
  },
  {
   "cell_type": "markdown",
   "metadata": {},
   "source": [
    "**Create Moving Movie**"
   ]
  },
  {
   "cell_type": "code",
   "execution_count": 4,
   "metadata": {},
   "outputs": [],
   "source": [
    "import numpy as np\n",
    "import pyvista as pv\n",
    "\n",
    "def lerp(start, end, t):\n",
    "    return start * (1-t) + end*t\n",
    "\n",
    "plotter = pv.Plotter(shape=(1, 2))\n",
    "plotter.open_movie(\"movingMovie.mp4\")\n",
    "\n",
    "radius = 1200\n",
    "reps = 10\n",
    "\n",
    "totalFrames = reps * len(frames)\n",
    "counter = 0\n",
    "for i in range(reps):\n",
    "    for frame in frames:\n",
    "        plotter.clear()\n",
    "        \n",
    "        frame = np.array(frame)\n",
    "        frame = (np.array([[0, 0, 1], [1, 0, 0], [0, 1, 0]]) @ frame.T).T #Rotate coord system\n",
    "        \n",
    "        p = pv.wrap(frame)\n",
    "        surf = p.reconstruct_surface()\n",
    "\n",
    "        centerOfMass = np.average(frame, 0)\n",
    "        phi = lerp(0, np.pi * 1.1, counter / totalFrames)\n",
    "        theta = lerp(np.pi * 0.3, np.pi * 0.7, counter / totalFrames)\n",
    "        pos = (radius * np.sin(theta) * np.cos(phi) + centerOfMass[0], radius * np.sin(theta) * np.sin(phi) + centerOfMass[1], radius * np.cos(theta) + centerOfMass[2])\n",
    "        \n",
    "        plotter.subplot(0, 0)\n",
    "        plotter.add_mesh(p, style='points', point_size=3.0)\n",
    "        plotter.add_title('Point Cloud')\n",
    "        plotter.camera.position = pos\n",
    "        plotter.subplot(0, 1)\n",
    "        plotter.add_mesh(surf, opacity = 0.4, show_edges=True)\n",
    "        plotter.add_title('Surface')\n",
    "        \n",
    "        plotter.camera.position = pos\n",
    "        plotter.write_frame()  # Write this frame\n",
    "        \n",
    "        counter += 1\n",
    "        \n",
    "plotter.close()"
   ]
  },
  {
   "cell_type": "code",
   "execution_count": null,
   "metadata": {},
   "outputs": [],
   "source": []
  }
 ],
 "metadata": {
  "colab": {
   "authorship_tag": "ABX9TyO1QN6Qw8v9HzAORkW0zAkA",
   "include_colab_link": true,
   "provenance": []
  },
  "kernelspec": {
   "display_name": "Python 3",
   "language": "python",
   "name": "python3"
  },
  "language_info": {
   "codemirror_mode": {
    "name": "ipython",
    "version": 3
   },
   "file_extension": ".py",
   "mimetype": "text/x-python",
   "name": "python",
   "nbconvert_exporter": "python",
   "pygments_lexer": "ipython3",
   "version": "3.7.16"
  }
 },
 "nbformat": 4,
 "nbformat_minor": 4
}
