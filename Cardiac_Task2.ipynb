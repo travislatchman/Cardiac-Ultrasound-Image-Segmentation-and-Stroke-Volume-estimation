{
 "cells": [
  {
   "cell_type": "markdown",
   "metadata": {
    "colab_type": "text",
    "id": "view-in-github"
   },
   "source": [
    "<a href=\"https://colab.research.google.com/github/travislatchman/Cardiac-Ultrasound-Image-Segmentation-and-Stroke-Volume-estimation/blob/main/Cardiac_Task1.ipynb\" target=\"_parent\"><img src=\"https://colab.research.google.com/assets/colab-badge.svg\" alt=\"Open In Colab\"/></a>"
   ]
  },
  {
   "cell_type": "code",
   "execution_count": 9,
   "metadata": {
    "id": "oWEMv08XnIMQ"
   },
   "outputs": [
    {
     "ename": "IndexError",
     "evalue": "index 748 is out of bounds for axis 1 with size 748",
     "output_type": "error",
     "traceback": [
      "\u001b[1;31m---------------------------------------------------------------------------\u001b[0m",
      "\u001b[1;31mIndexError\u001b[0m                                Traceback (most recent call last)",
      "\u001b[1;32m<ipython-input-9-e558ae8e62df>\u001b[0m in \u001b[0;36m<module>\u001b[1;34m\u001b[0m\n\u001b[0;32m      4\u001b[0m \u001b[0mTwoSequence\u001b[0m\u001b[1;33m,\u001b[0m \u001b[0mFourSequence\u001b[0m\u001b[1;33m,\u001b[0m \u001b[0maspectRatio\u001b[0m \u001b[1;33m=\u001b[0m \u001b[0mSeg\u001b[0m\u001b[1;33m.\u001b[0m\u001b[0mgetSequenceSegmentations\u001b[0m\u001b[1;33m(\u001b[0m\u001b[1;36m2\u001b[0m\u001b[1;33m)\u001b[0m\u001b[1;33m\u001b[0m\u001b[1;33m\u001b[0m\u001b[0m\n\u001b[0;32m      5\u001b[0m \u001b[1;33m\u001b[0m\u001b[0m\n\u001b[1;32m----> 6\u001b[1;33m \u001b[0mnewTwo\u001b[0m \u001b[1;33m=\u001b[0m \u001b[0mRec\u001b[0m\u001b[1;33m.\u001b[0m\u001b[0mresampleAllContours\u001b[0m\u001b[1;33m(\u001b[0m\u001b[0mTwoSequence\u001b[0m\u001b[1;33m)\u001b[0m\u001b[1;33m\u001b[0m\u001b[1;33m\u001b[0m\u001b[0m\n\u001b[0m\u001b[0;32m      7\u001b[0m \u001b[0mnewFour\u001b[0m \u001b[1;33m=\u001b[0m \u001b[0mRec\u001b[0m\u001b[1;33m.\u001b[0m\u001b[0mresampleAllContours\u001b[0m\u001b[1;33m(\u001b[0m\u001b[0mFourSequence\u001b[0m\u001b[1;33m)\u001b[0m\u001b[1;33m\u001b[0m\u001b[1;33m\u001b[0m\u001b[0m\n\u001b[0;32m      8\u001b[0m \u001b[1;33m\u001b[0m\u001b[0m\n",
      "\u001b[1;32m~\\Documents\\Medical Image Analysis\\Project 1\\Cardiac-Ultrasound-Image-Segmentation-and-Stroke-Volume-estimation\\Reconstruction.py\u001b[0m in \u001b[0;36mresampleAllContours\u001b[1;34m(sequence)\u001b[0m\n\u001b[0;32m     64\u001b[0m         \u001b[0medges\u001b[0m \u001b[1;33m=\u001b[0m \u001b[0mcv2\u001b[0m\u001b[1;33m.\u001b[0m\u001b[0mCanny\u001b[0m\u001b[1;33m(\u001b[0m\u001b[0mframe\u001b[0m\u001b[1;33m,\u001b[0m \u001b[1;36m50\u001b[0m\u001b[1;33m,\u001b[0m \u001b[1;36m200\u001b[0m\u001b[1;33m)\u001b[0m\u001b[1;33m.\u001b[0m\u001b[0mastype\u001b[0m\u001b[1;33m(\u001b[0m\u001b[0mnp\u001b[0m\u001b[1;33m.\u001b[0m\u001b[0muint8\u001b[0m\u001b[1;33m)\u001b[0m\u001b[1;33m\u001b[0m\u001b[1;33m\u001b[0m\u001b[0m\n\u001b[0;32m     65\u001b[0m         \u001b[0mYinterp\u001b[0m\u001b[1;33m,\u001b[0m \u001b[0mXinterp\u001b[0m \u001b[1;33m=\u001b[0m \u001b[0mresampleContour\u001b[0m\u001b[1;33m(\u001b[0m\u001b[0medges\u001b[0m\u001b[1;33m,\u001b[0m \u001b[1;36m200\u001b[0m\u001b[1;33m)\u001b[0m\u001b[1;33m\u001b[0m\u001b[1;33m\u001b[0m\u001b[0m\n\u001b[1;32m---> 66\u001b[1;33m         \u001b[0mnewSequence\u001b[0m\u001b[1;33m.\u001b[0m\u001b[0mappend\u001b[0m\u001b[1;33m(\u001b[0m\u001b[0mnp\u001b[0m\u001b[1;33m.\u001b[0m\u001b[0marray\u001b[0m\u001b[1;33m(\u001b[0m\u001b[1;33m[\u001b[0m\u001b[0mYinterp\u001b[0m\u001b[1;33m,\u001b[0m \u001b[0mXinterp\u001b[0m\u001b[1;33m]\u001b[0m\u001b[1;33m)\u001b[0m\u001b[1;33m)\u001b[0m\u001b[1;33m\u001b[0m\u001b[1;33m\u001b[0m\u001b[0m\n\u001b[0m\u001b[0;32m     67\u001b[0m     \u001b[1;32mreturn\u001b[0m \u001b[0mnewSequence\u001b[0m\u001b[1;33m\u001b[0m\u001b[1;33m\u001b[0m\u001b[0m\n\u001b[0;32m     68\u001b[0m \u001b[1;33m\u001b[0m\u001b[0m\n",
      "\u001b[1;32m~\\Documents\\Medical Image Analysis\\Project 1\\Cardiac-Ultrasound-Image-Segmentation-and-Stroke-Volume-estimation\\Reconstruction.py\u001b[0m in \u001b[0;36mresampleContour\u001b[1;34m(contour, N)\u001b[0m\n\u001b[0;32m     46\u001b[0m \u001b[1;32mdef\u001b[0m \u001b[0mresampleContour\u001b[0m\u001b[1;33m(\u001b[0m\u001b[0mcontour\u001b[0m\u001b[1;33m,\u001b[0m \u001b[0mN\u001b[0m\u001b[1;33m)\u001b[0m\u001b[1;33m:\u001b[0m\u001b[1;33m\u001b[0m\u001b[1;33m\u001b[0m\u001b[0m\n\u001b[0;32m     47\u001b[0m     \u001b[0moriginalPoints\u001b[0m \u001b[1;33m=\u001b[0m \u001b[0mgetContourPointsCW\u001b[0m\u001b[1;33m(\u001b[0m\u001b[0mcontour\u001b[0m\u001b[1;33m)\u001b[0m\u001b[1;33m\u001b[0m\u001b[1;33m\u001b[0m\u001b[0m\n\u001b[1;32m---> 48\u001b[1;33m     \u001b[0mys\u001b[0m \u001b[1;33m=\u001b[0m \u001b[1;33m[\u001b[0m\u001b[0mx\u001b[0m\u001b[1;33m[\u001b[0m\u001b[1;36m0\u001b[0m\u001b[1;33m]\u001b[0m \u001b[1;32mfor\u001b[0m \u001b[0mx\u001b[0m \u001b[1;32min\u001b[0m \u001b[0moriginalPoints\u001b[0m\u001b[1;33m]\u001b[0m\u001b[1;33m\u001b[0m\u001b[1;33m\u001b[0m\u001b[0m\n\u001b[0m\u001b[0;32m     49\u001b[0m     \u001b[0mxs\u001b[0m \u001b[1;33m=\u001b[0m \u001b[1;33m[\u001b[0m\u001b[0mx\u001b[0m\u001b[1;33m[\u001b[0m\u001b[1;36m1\u001b[0m\u001b[1;33m]\u001b[0m \u001b[1;32mfor\u001b[0m \u001b[0mx\u001b[0m \u001b[1;32min\u001b[0m \u001b[0moriginalPoints\u001b[0m\u001b[1;33m]\u001b[0m\u001b[1;33m\u001b[0m\u001b[1;33m\u001b[0m\u001b[0m\n\u001b[0;32m     50\u001b[0m \u001b[1;33m\u001b[0m\u001b[0m\n",
      "\u001b[1;32m~\\Documents\\Medical Image Analysis\\Project 1\\Cardiac-Ultrasound-Image-Segmentation-and-Stroke-Volume-estimation\\Reconstruction.py\u001b[0m in \u001b[0;36mgetContourPointsCW\u001b[1;34m(contour)\u001b[0m\n\u001b[0;32m     37\u001b[0m         \u001b[0mdirection\u001b[0m \u001b[1;33m=\u001b[0m \u001b[0mgetDirection\u001b[0m\u001b[1;33m(\u001b[0m\u001b[0mpointList\u001b[0m\u001b[1;33m[\u001b[0m\u001b[1;33m-\u001b[0m\u001b[1;36m2\u001b[0m\u001b[1;33m]\u001b[0m\u001b[1;33m,\u001b[0m \u001b[0mpointList\u001b[0m\u001b[1;33m[\u001b[0m\u001b[1;33m-\u001b[0m\u001b[1;36m1\u001b[0m\u001b[1;33m]\u001b[0m\u001b[1;33m)\u001b[0m\u001b[1;33m\u001b[0m\u001b[1;33m\u001b[0m\u001b[0m\n\u001b[0;32m     38\u001b[0m         \u001b[0mnewPoint\u001b[0m \u001b[1;33m=\u001b[0m \u001b[0mfindNextPoint\u001b[0m\u001b[1;33m(\u001b[0m\u001b[0mcontour\u001b[0m\u001b[1;33m,\u001b[0m \u001b[0mpointList\u001b[0m\u001b[1;33m[\u001b[0m\u001b[1;33m-\u001b[0m\u001b[1;36m1\u001b[0m\u001b[1;33m]\u001b[0m\u001b[1;33m,\u001b[0m \u001b[0mdirection\u001b[0m\u001b[1;33m)\u001b[0m\u001b[1;33m\u001b[0m\u001b[1;33m\u001b[0m\u001b[0m\n\u001b[1;32m---> 39\u001b[1;33m         \u001b[1;32mif\u001b[0m \u001b[0mnewPoint\u001b[0m \u001b[1;33m==\u001b[0m \u001b[0mpointList\u001b[0m\u001b[1;33m[\u001b[0m\u001b[1;36m0\u001b[0m\u001b[1;33m]\u001b[0m\u001b[1;33m:\u001b[0m\u001b[1;33m\u001b[0m\u001b[1;33m\u001b[0m\u001b[0m\n\u001b[0m\u001b[0;32m     40\u001b[0m             \u001b[1;32mbreak\u001b[0m\u001b[1;33m\u001b[0m\u001b[1;33m\u001b[0m\u001b[0m\n\u001b[0;32m     41\u001b[0m         \u001b[1;32melse\u001b[0m\u001b[1;33m:\u001b[0m\u001b[1;33m\u001b[0m\u001b[1;33m\u001b[0m\u001b[0m\n",
      "\u001b[1;32m~\\Documents\\Medical Image Analysis\\Project 1\\Cardiac-Ultrasound-Image-Segmentation-and-Stroke-Volume-estimation\\Reconstruction.py\u001b[0m in \u001b[0;36mfindNextPoint\u001b[1;34m(contour, currentPoint, previousDirection)\u001b[0m\n\u001b[0;32m     16\u001b[0m                 \u001b[1;32mcontinue\u001b[0m\u001b[1;33m\u001b[0m\u001b[1;33m\u001b[0m\u001b[0m\n\u001b[0;32m     17\u001b[0m             \u001b[1;32mif\u001b[0m \u001b[0mcontour\u001b[0m\u001b[1;33m[\u001b[0m\u001b[0mcurrentPoint\u001b[0m\u001b[1;33m[\u001b[0m\u001b[1;36m0\u001b[0m\u001b[1;33m]\u001b[0m \u001b[1;33m+\u001b[0m \u001b[0mi\u001b[0m\u001b[1;33m,\u001b[0m \u001b[0mcurrentPoint\u001b[0m\u001b[1;33m[\u001b[0m\u001b[1;36m1\u001b[0m\u001b[1;33m]\u001b[0m \u001b[1;33m+\u001b[0m \u001b[0mj\u001b[0m\u001b[1;33m]\u001b[0m \u001b[1;33m>\u001b[0m \u001b[1;36m0\u001b[0m\u001b[1;33m:\u001b[0m\u001b[1;33m\u001b[0m\u001b[1;33m\u001b[0m\u001b[0m\n\u001b[1;32m---> 18\u001b[1;33m                 \u001b[0mcandidates\u001b[0m\u001b[1;33m.\u001b[0m\u001b[0mappend\u001b[0m\u001b[1;33m(\u001b[0m\u001b[1;33m[\u001b[0m\u001b[0mcurrentPoint\u001b[0m\u001b[1;33m[\u001b[0m\u001b[1;36m0\u001b[0m\u001b[1;33m]\u001b[0m \u001b[1;33m+\u001b[0m \u001b[0mi\u001b[0m\u001b[1;33m,\u001b[0m \u001b[0mcurrentPoint\u001b[0m\u001b[1;33m[\u001b[0m\u001b[1;36m1\u001b[0m\u001b[1;33m]\u001b[0m \u001b[1;33m+\u001b[0m \u001b[0mj\u001b[0m\u001b[1;33m]\u001b[0m\u001b[1;33m)\u001b[0m\u001b[1;33m\u001b[0m\u001b[1;33m\u001b[0m\u001b[0m\n\u001b[0m\u001b[0;32m     19\u001b[0m \u001b[1;33m\u001b[0m\u001b[0m\n\u001b[0;32m     20\u001b[0m     \u001b[0mbestIndex\u001b[0m \u001b[1;33m=\u001b[0m \u001b[1;33m-\u001b[0m\u001b[1;36m1\u001b[0m\u001b[1;33m\u001b[0m\u001b[1;33m\u001b[0m\u001b[0m\n",
      "\u001b[1;31mIndexError\u001b[0m: index 748 is out of bounds for axis 1 with size 748"
     ]
    }
   ],
   "source": [
    "import Reconstruction as Rec\n",
    "import Segmentation as Seg\n",
    "\n",
    "TwoSequence, FourSequence, aspectRatio = Seg.getSequenceSegmentations(2)\n",
    "\n",
    "newTwo = Rec.resampleAllContours(TwoSequence)\n",
    "newFour = Rec.resampleAllContours(FourSequence)\n",
    "\n",
    "interpTwo = Rec.interpolateSequence(newTwo, 60)\n",
    "interpFour = Rec.interpolateSequence(newFour, 60)\n",
    "\n",
    "frames = []\n",
    "for i in range(len(interpTwo)):\n",
    "    frames.append(Rec.generatePointCloud(interpTwo[i], interpFour[i], 3, aspectRatio, i == 0))"
   ]
  },
  {
   "cell_type": "markdown",
   "metadata": {},
   "source": [
    "**Interactive Widget**"
   ]
  },
  {
   "cell_type": "code",
   "execution_count": 8,
   "metadata": {},
   "outputs": [
    {
     "data": {
      "application/vnd.jupyter.widget-view+json": {
       "model_id": "2c746e9fc28a418e9a905b0a16f347ec",
       "version_major": 2,
       "version_minor": 0
      },
      "text/plain": [
       "Widget(value=\"<iframe src='http://localhost:51891/index.html?ui=P_0x2a72af28088_3&reconnect=auto' style='width…"
      ]
     },
     "metadata": {},
     "output_type": "display_data"
    },
    {
     "name": "stdout",
     "output_type": "stream",
     "text": [
      "4625672.291516407\n"
     ]
    }
   ],
   "source": [
    "import pyvista as pv\n",
    "import numpy as np\n",
    "\n",
    "p = pv.wrap(np.array(frames[10]))\n",
    "surf = p.reconstruct_surface()\n",
    "\n",
    "pl = pv.Plotter(shape=(1, 2))\n",
    "pl.add_mesh(p, style='points', point_size=3.0)\n",
    "pl.add_title('Point Cloud of 3D Surface')\n",
    "pl.subplot(0, 1)\n",
    "pl.add_mesh(surf, opacity = 0.4, show_edges=True)\n",
    "pl.add_title('Reconstructed Surface')\n",
    "pl.show()"
   ]
  },
  {
   "cell_type": "markdown",
   "metadata": {},
   "source": [
    "**Create Static Movie**"
   ]
  },
  {
   "cell_type": "code",
   "execution_count": 5,
   "metadata": {},
   "outputs": [],
   "source": [
    "import numpy as np\n",
    "import pyvista as pv\n",
    "\n",
    "plotter = pv.Plotter(shape=(1, 2))\n",
    "plotter.open_movie(\"staticMovie.mp4\")\n",
    "\n",
    "reps = 10\n",
    "\n",
    "for i in range(reps):\n",
    "    for frame in frames:\n",
    "        plotter.clear()\n",
    "        \n",
    "        p = pv.wrap(np.array(frame))\n",
    "        surf = p.reconstruct_surface()\n",
    "\n",
    "        plotter.subplot(0, 0)\n",
    "        plotter.add_mesh(p, style='points', point_size=3.0)\n",
    "        plotter.add_title('Point Cloud')\n",
    "        plotter.subplot(0, 1)\n",
    "        plotter.add_mesh(surf, opacity = 0.4, show_edges=True)\n",
    "        plotter.add_title('Surface')\n",
    "        \n",
    "        plotter.write_frame()  # Write this frame\n",
    "        \n",
    "plotter.close()"
   ]
  },
  {
   "cell_type": "markdown",
   "metadata": {},
   "source": [
    "**Create Moving Movie**"
   ]
  },
  {
   "cell_type": "code",
   "execution_count": 14,
   "metadata": {},
   "outputs": [],
   "source": [
    "import numpy as np\n",
    "import pyvista as pv\n",
    "\n",
    "def lerp(start, end, t):\n",
    "    return start * (1-t) + end*t\n",
    "\n",
    "plotter = pv.Plotter(shape=(1, 2))\n",
    "plotter.open_movie(\"movingMovie.mp4\")\n",
    "\n",
    "radius = 1200\n",
    "reps = 10\n",
    "\n",
    "totalFrames = reps * len(frames)\n",
    "counter = 0\n",
    "for i in range(reps):\n",
    "    for frame in frames:\n",
    "        plotter.clear()\n",
    "        \n",
    "        frame = np.array(frame)\n",
    "        frame = (np.array([[0, 0, 1], [1, 0, 0], [0, 1, 0]]) @ frame.T).T #Rotate coord system\n",
    "        \n",
    "        p = pv.wrap(frame)\n",
    "        surf = p.reconstruct_surface()\n",
    "\n",
    "        centerOfMass = np.average(frame, 0)\n",
    "        phi = lerp(0, np.pi * 1.1, counter / totalFrames)\n",
    "        theta = lerp(np.pi * 0.3, np.pi * 0.7, counter / totalFrames)\n",
    "        pos = (radius * np.sin(theta) * np.cos(phi) + centerOfMass[0], radius * np.sin(theta) * np.sin(phi) + centerOfMass[1], radius * np.cos(theta) + centerOfMass[2])\n",
    "        \n",
    "        plotter.subplot(0, 0)\n",
    "        plotter.add_mesh(p, style='points', point_size=3.0)\n",
    "        plotter.add_title('Point Cloud')\n",
    "        plotter.camera.position = pos\n",
    "        plotter.subplot(0, 1)\n",
    "        plotter.add_mesh(surf, opacity = 0.4, show_edges=True)\n",
    "        plotter.add_title('Surface')\n",
    "        \n",
    "        plotter.camera.position = pos\n",
    "        plotter.write_frame()  # Write this frame\n",
    "        \n",
    "        counter += 1\n",
    "        \n",
    "plotter.close()"
   ]
  }
 ],
 "metadata": {
  "colab": {
   "authorship_tag": "ABX9TyO1QN6Qw8v9HzAORkW0zAkA",
   "include_colab_link": true,
   "provenance": []
  },
  "kernelspec": {
   "display_name": "Python 3",
   "language": "python",
   "name": "python3"
  },
  "language_info": {
   "codemirror_mode": {
    "name": "ipython",
    "version": 3
   },
   "file_extension": ".py",
   "mimetype": "text/x-python",
   "name": "python",
   "nbconvert_exporter": "python",
   "pygments_lexer": "ipython3",
   "version": "3.7.16"
  }
 },
 "nbformat": 4,
 "nbformat_minor": 4
}
