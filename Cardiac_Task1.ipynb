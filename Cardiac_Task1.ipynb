{
  "nbformat": 4,
  "nbformat_minor": 0,
  "metadata": {
    "colab": {
      "provenance": [],
      "authorship_tag": "ABX9TyMsQcEsGq5bL/ujGBQ49LOM",
      "include_colab_link": true
    },
    "kernelspec": {
      "name": "python3",
      "display_name": "Python 3"
    },
    "language_info": {
      "name": "python"
    }
  },
  "cells": [
    {
      "cell_type": "markdown",
      "metadata": {
        "id": "view-in-github",
        "colab_type": "text"
      },
      "source": [
        "<a href=\"https://colab.research.google.com/github/travislatchman/Cardiac-Ultrasound-Image-Segmentation-and-Stroke-Volume-estimation/blob/main/Cardiac_Task1.ipynb\" target=\"_parent\"><img src=\"https://colab.research.google.com/assets/colab-badge.svg\" alt=\"Open In Colab\"/></a>"
      ]
    },
    {
      "cell_type": "code",
      "source": [
        "!pip install numpy SimpleITK configparser\n"
      ],
      "metadata": {
        "colab": {
          "base_uri": "https://localhost:8080/"
        },
        "id": "OtKBN_paqoXd",
        "outputId": "fdbe7a9c-895c-431b-b79f-3d6eb8acda85"
      },
      "execution_count": 1,
      "outputs": [
        {
          "output_type": "stream",
          "name": "stdout",
          "text": [
            "Looking in indexes: https://pypi.org/simple, https://us-python.pkg.dev/colab-wheels/public/simple/\n",
            "Requirement already satisfied: numpy in /usr/local/lib/python3.9/dist-packages (1.22.4)\n",
            "Requirement already satisfied: SimpleITK in /usr/local/lib/python3.9/dist-packages (2.2.1)\n",
            "Requirement already satisfied: configparser in /usr/local/lib/python3.9/dist-packages (5.3.0)\n"
          ]
        }
      ]
    },
    {
      "cell_type": "code",
      "execution_count": 2,
      "metadata": {
        "id": "oWEMv08XnIMQ"
      },
      "outputs": [],
      "source": [
        "import configparser\n",
        "import numpy as np\n",
        "import SimpleITK as sitk"
      ]
    },
    {
      "cell_type": "code",
      "source": [
        "config = configparser.ConfigParser()\n"
      ],
      "metadata": {
        "id": "JH6QcOIToxli"
      },
      "execution_count": 4,
      "outputs": []
    },
    {
      "cell_type": "code",
      "source": [
        "import configparser\n",
        "\n",
        "def add_section_header_to_file(filename, section_name):\n",
        "    # read the file contents into a string\n",
        "    with open(filename, 'r') as f:\n",
        "        contents = f.read()\n",
        "\n",
        "    # add a section header to the string\n",
        "    if contents.strip() and not contents.startswith('['):\n",
        "        contents = f\"[{section_name}]\\n{contents}\"\n",
        "\n",
        "    # write the modified string back to the file\n",
        "    with open(filename, 'w') as f:\n",
        "        f.write(contents)\n"
      ],
      "metadata": {
        "id": "8XFGzi99s75n"
      },
      "execution_count": 14,
      "outputs": []
    },
    {
      "cell_type": "code",
      "source": [
        "# example usage:\n",
        "add_section_header_to_file('Info_4CH.cfg', 'DEFAULT')"
      ],
      "metadata": {
        "id": "RRFFlEPts-3I"
      },
      "execution_count": 15,
      "outputs": []
    },
    {
      "cell_type": "code",
      "source": [
        "\n",
        "# read the configuration file - 4CH\n",
        "config.read('Info_4CH.cfg')\n"
      ],
      "metadata": {
        "colab": {
          "base_uri": "https://localhost:8080/"
        },
        "id": "lk4xM1bvsakr",
        "outputId": "ecb22713-bc46-47de-c72b-a341f43704a8"
      },
      "execution_count": 16,
      "outputs": [
        {
          "output_type": "execute_result",
          "data": {
            "text/plain": [
              "['Info_4CH.cfg']"
            ]
          },
          "metadata": {},
          "execution_count": 16
        }
      ]
    },
    {
      "cell_type": "code",
      "source": [
        "filename = 'Info_4CH.cfg'\n",
        "\n",
        "# read the file contents into a string\n",
        "with open(filename, 'r') as f:\n",
        "    contents = f.read()\n",
        "\n",
        "# print the contents of the file\n",
        "print(contents)\n"
      ],
      "metadata": {
        "colab": {
          "base_uri": "https://localhost:8080/"
        },
        "id": "adi7nqR5uatH",
        "outputId": "d2a07688-1ab1-4970-8b7c-1685b18e5794"
      },
      "execution_count": 17,
      "outputs": [
        {
          "output_type": "stream",
          "name": "stdout",
          "text": [
            "[DEFAULT]\n",
            "ED: 1\n",
            "ES: 20\n",
            "NbFrame: 20\n",
            "Sex: F\n",
            "Age: 56\n",
            "ImageQuality: Good\n",
            "LVedv: 94.0\n",
            "LVesv: 34.6\n",
            "LVef: 63.2\n",
            "\n"
          ]
        }
      ]
    },
    {
      "cell_type": "code",
      "source": [
        "# example usage:\n",
        "add_section_header_to_file('Info_2CH.cfg', 'DEFAULT')"
      ],
      "metadata": {
        "id": "KfxW5c4Puprq"
      },
      "execution_count": 18,
      "outputs": []
    },
    {
      "cell_type": "code",
      "source": [
        "\n",
        "# read the configuration file - 4CH\n",
        "config.read('Info_2CH.cfg')\n"
      ],
      "metadata": {
        "colab": {
          "base_uri": "https://localhost:8080/"
        },
        "id": "LqBbDbwOuvSx",
        "outputId": "d2ff0aff-bdde-4733-8ae8-2c7363e6a408"
      },
      "execution_count": 19,
      "outputs": [
        {
          "output_type": "execute_result",
          "data": {
            "text/plain": [
              "['Info_2CH.cfg']"
            ]
          },
          "metadata": {},
          "execution_count": 19
        }
      ]
    },
    {
      "cell_type": "code",
      "source": [
        "filename = 'Info_2CH.cfg'\n",
        "\n",
        "# read the file contents into a string\n",
        "with open(filename, 'r') as f:\n",
        "    contents = f.read()\n",
        "\n",
        "# print the contents of the file\n",
        "print(contents)\n"
      ],
      "metadata": {
        "colab": {
          "base_uri": "https://localhost:8080/"
        },
        "id": "vGopxvUMu1Iq",
        "outputId": "09614e8a-5722-406e-c78f-f94c59249fc6"
      },
      "execution_count": 20,
      "outputs": [
        {
          "output_type": "stream",
          "name": "stdout",
          "text": [
            "[DEFAULT]\n",
            "ED: 1\n",
            "ES: 18\n",
            "NbFrame: 18\n",
            "Sex: F\n",
            "Age: 56\n",
            "ImageQuality: Good\n",
            "LVedv: 94.0\n",
            "LVesv: 34.6\n",
            "LVef: 63.2\n",
            "\n"
          ]
        }
      ]
    },
    {
      "cell_type": "code",
      "source": [
        "def read_patient_raw_file(patient_number, file_prefix, dtype=np.float32):\n",
        "    # Construct the filename using the patient number and prefix\n",
        "    file_path = f\"patient{patient_number:04d}_{file_prefix}.raw\"\n",
        "\n",
        "    # Read the raw file\n",
        "    data = np.fromfile(file_path, dtype)\n",
        "    return data\n",
        "\n",
        "# Example usage\n",
        "patient_number = 1\n",
        "array_2CH_ED_gt_raw = read_patient_raw_file(patient_number, \"2CH_ED_gt\")\n"
      ],
      "metadata": {
        "id": "HRHpVETko_yv"
      },
      "execution_count": 21,
      "outputs": []
    },
    {
      "cell_type": "code",
      "source": [
        "def read_patient_mhd_file(patient_number, file_prefix):\n",
        "    # Construct the filename using the patient number and prefix\n",
        "    file_path = f\"patient{patient_number:04d}_{file_prefix}.mhd\"\n",
        "\n",
        "    # Read the mhd file\n",
        "    image = sitk.ReadImage(file_path)\n",
        "    array = sitk.GetArrayFromImage(image)\n",
        "    return array\n",
        "\n",
        "# Example usage\n",
        "patient_number = 1\n",
        "array_2CH_ED_gt = read_patient_mhd_file(patient_number, \"2CH_ED_gt\")\n"
      ],
      "metadata": {
        "id": "vDyeJjoYpzpE"
      },
      "execution_count": 22,
      "outputs": []
    },
    {
      "cell_type": "code",
      "source": [
        "patient_number = 1\n",
        "\n",
        "# Read raw files\n",
        "sequence_4CH_raw = read_patient_raw_file(patient_number, '4CH_sequence')\n",
        "sequence_2CH_raw = read_patient_raw_file(patient_number, '2CH_sequence')\n",
        "\n",
        "ED_4CH_raw = read_patient_raw_file(patient_number, '4CH_ED')\n",
        "ES_4CH_raw = read_patient_raw_file(patient_number, '4CH_ES')\n",
        "ED_2CH_raw = read_patient_raw_file(patient_number, '2CH_ED')\n",
        "ES_2CH_raw = read_patient_raw_file(patient_number, '2CH_ES')\n",
        "\n",
        "ED_gt_4CH_raw = read_patient_raw_file(patient_number, '4CH_ED_gt')\n",
        "ES_gt_4CH_raw = read_patient_raw_file(patient_number, '4CH_ES_gt')\n",
        "ED_gt_2CH_raw = read_patient_raw_file(patient_number, '2CH_ED_gt')\n",
        "ES_gt_2CH_raw = read_patient_raw_file(patient_number, '2CH_ES_gt')\n",
        "\n",
        "# Read mhd files\n",
        "sequence_4CH_mhd = read_patient_mhd_file(patient_number, '4CH_sequence')\n",
        "sequence_2CH_mhd = read_patient_mhd_file(patient_number, '2CH_sequence')\n",
        "\n",
        "ED_4CH_mhd = read_patient_mhd_file(patient_number, '4CH_ED')\n",
        "ES_4CH_mhd = read_patient_mhd_file(patient_number, '4CH_ES')\n",
        "ED_2CH_mhd = read_patient_mhd_file(patient_number, '2CH_ED')\n",
        "ES_2CH_mhd = read_patient_mhd_file(patient_number, '2CH_ES')\n",
        "\n",
        "ED_gt_4CH_mhd = read_patient_mhd_file(patient_number, '4CH_ED_gt')\n",
        "ES_gt_4CH_mhd = read_patient_mhd_file(patient_number, '4CH_ES_gt')\n",
        "ED_gt_2CH_mhd = read_patient_mhd_file(patient_number, '2CH_ED_gt')\n",
        "ES_gt_2CH_mhd = read_patient_mhd_file(patient_number, '2CH_ES_gt')"
      ],
      "metadata": {
        "id": "46waeOSCu_ug"
      },
      "execution_count": 23,
      "outputs": []
    }
  ]
}