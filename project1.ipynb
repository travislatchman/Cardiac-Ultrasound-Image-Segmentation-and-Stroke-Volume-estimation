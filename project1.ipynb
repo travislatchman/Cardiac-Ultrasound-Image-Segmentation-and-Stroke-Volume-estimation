{
 "cells": [
  {
   "attachments": {},
   "cell_type": "markdown",
   "metadata": {},
   "source": [
    "## Task A: Left Ventricle Segmentation"
   ]
  },
  {
   "cell_type": "code",
   "execution_count": null,
   "metadata": {},
   "outputs": [],
   "source": [
    "import numpy as np\n",
    "import Segmentation as Seg\n",
    "\n",
    "\n",
    "for patientNumber in range(1,11):\n",
    "    print(patientNumber)\n",
    "    for title in ['2CH', '4CH']:\n",
    "        output = []\n",
    "        image, aspect, spacing = Seg.read_patient_mhd_file(patientNumber, title + \"_sequence\", test=True)\n",
    "        for i in range(len(image)):\n",
    "            b, region = Seg.segmentImage(image[i], aspect, title, False, False)\n",
    "            region[region>0] = 1\n",
    "            output.append(region)\n",
    "\n",
    "        Seg.write_mhd_file(np.array(output), patientNumber, title, spacing)"
   ]
  },
  {
   "attachments": {},
   "cell_type": "markdown",
   "metadata": {},
   "source": [
    "## Task B: 3D Visualization"
   ]
  },
  {
   "cell_type": "code",
   "execution_count": null,
   "metadata": {},
   "outputs": [],
   "source": [
    "import numpy as np\n",
    "import pyvista as pv\n",
    "import Reconstruction as Rec\n",
    "import Segmentation as Seg\n",
    "\n",
    "\n",
    "for n in range(1,4): # first 3 cases for videos\n",
    "    TwoSequence, FourSequence, aspectRatio = Seg.getSequenceSegmentations(n, True)\n",
    "\n",
    "    newTwo = Rec.resampleAllContours(TwoSequence)\n",
    "    newFour = Rec.resampleAllContours(FourSequence)\n",
    "\n",
    "    interpTwo = Rec.interpolateSequence(newTwo, 60)\n",
    "    interpFour = Rec.interpolateSequence(newFour, 60)\n",
    "\n",
    "    frames = []\n",
    "    for i in range(len(interpTwo)):\n",
    "        frames.append(Rec.generatePointCloud(interpTwo[i], interpFour[i], 3, aspectRatio, i == 0))\n",
    "\n",
    "    plotter = pv.Plotter(shape=(1, 2))\n",
    "    plotter.open_movie(f\"staticMovie{n}.mp4\")\n",
    "\n",
    "    reps = 10\n",
    "\n",
    "    for i in range(reps):\n",
    "        for frame in frames:\n",
    "            plotter.clear()\n",
    "            \n",
    "            p = pv.wrap(np.array(frame))\n",
    "            surf = p.reconstruct_surface()\n",
    "\n",
    "            plotter.subplot(0, 0)\n",
    "            plotter.add_mesh(p, style='points', point_size=3.0)\n",
    "            plotter.add_title('Point Cloud')\n",
    "            plotter.subplot(0, 1)\n",
    "            plotter.add_mesh(surf, opacity = 0.4, show_edges=True)\n",
    "            plotter.add_title('Surface')\n",
    "            \n",
    "            plotter.write_frame()  # Write this frame\n",
    "            \n",
    "    plotter.close()"
   ]
  },
  {
   "attachments": {},
   "cell_type": "markdown",
   "metadata": {},
   "source": [
    "## Task C: Stroke Volume and Ejection Fraction Calculation"
   ]
  },
  {
   "cell_type": "code",
   "execution_count": 3,
   "metadata": {},
   "outputs": [
    {
     "name": "stderr",
     "output_type": "stream",
     "text": [
      "/Users/pgonzales/miniforge3/lib/python3.9/site-packages/numpy/lib/function_base.py:495: RuntimeWarning: Mean of empty slice.\n",
      "  avg = a.mean(axis)\n",
      "/Users/pgonzales/miniforge3/lib/python3.9/site-packages/numpy/core/_methods.py:189: RuntimeWarning: invalid value encountered in double_scalars\n",
      "  ret = ret.dtype.type(ret / rcount)\n"
     ]
    }
   ],
   "source": [
    "import Reconstruction as Rec\n",
    "import Segmentation as Seg\n",
    "import pyvista as pv\n",
    "import numpy as np\n",
    "import re\n",
    "\n",
    "\n",
    "opt1 = [2.15060547e-09, 1.48584167e+00, 8.28364558e+01]\n",
    "opt2 = [3.76830004e-05, 8.95933170e-01, 3.36601220e+01]\n",
    "\n",
    "def regression(x, a, b, c):\n",
    "    return a * np.exp(b * x) + c\n",
    "\n",
    "def getVolumesForTest(patient):\n",
    "    types = ['2CH_sequence', '4CH_sequence']\n",
    "    contours = []\n",
    "    aspectRatio = 0\n",
    "    for t in types: \n",
    "        image, aspect, spacing = Seg.read_patient_mhd_file(patient, t, test=True)\n",
    "        \n",
    "        b, region = Seg.segmentImage(image[0], aspect, t, False, False)\n",
    "        contours.append(region.astype(np.uint8))\n",
    "        \n",
    "        b, region = Seg.segmentImage(image[-1], aspect, t, False, False)\n",
    "        contours.append(region.astype(np.uint8))\n",
    "        if aspect != aspectRatio and aspectRatio > 0:\n",
    "            raise Exception('Different Aspects')\n",
    "        aspectRatio = aspect\n",
    "        \n",
    "        \n",
    "    resampled = Rec.resampleAllContours(contours)\n",
    "\n",
    "    ED = Rec.generatePointCloud(resampled[0], resampled[2], 4, aspectRatio, False)\n",
    "    ES = Rec.generatePointCloud(resampled[1], resampled[3], 4, aspectRatio, False)\n",
    "    \n",
    "    EDsurface = pv.wrap(np.array(ED)).reconstruct_surface().volume\n",
    "    ESsurface = pv.wrap(np.array(ES)).reconstruct_surface().volume\n",
    "\n",
    "    EDreal = regression(np.log(EDsurface), *opt1)\n",
    "    ESreal = regression(np.log(ESsurface), *opt2)\n",
    "   \n",
    "    return EDreal, ESreal, (EDreal - ESreal) / EDreal\n",
    "    \n",
    "\n",
    "for i in range(1, 11):\n",
    "    EDreal, ESreal, EFrac = getVolumesForTest(i)\n",
    "    strokeVol = EDreal - ESreal\n",
    "    with open(Seg.RESULT_PATH + f\"Test{i}/taskC.txt\", \"w\") as f:\n",
    "        f.write(str(strokeVol) + '\\n' + str(EFrac))"
   ]
  }
 ],
 "metadata": {
  "kernelspec": {
   "display_name": "base",
   "language": "python",
   "name": "python3"
  },
  "language_info": {
   "codemirror_mode": {
    "name": "ipython",
    "version": 3
   },
   "file_extension": ".py",
   "mimetype": "text/x-python",
   "name": "python",
   "nbconvert_exporter": "python",
   "pygments_lexer": "ipython3",
   "version": "3.9.7"
  },
  "orig_nbformat": 4
 },
 "nbformat": 4,
 "nbformat_minor": 2
}
